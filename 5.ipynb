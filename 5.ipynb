{
  "nbformat": 4,
  "nbformat_minor": 0,
  "metadata": {
    "colab": {
      "provenance": []
    },
    "kernelspec": {
      "name": "python3",
      "display_name": "Python 3"
    },
    "language_info": {
      "name": "python"
    }
  },
  "cells": [
    {
      "cell_type": "code",
      "execution_count": 1,
      "metadata": {
        "colab": {
          "base_uri": "https://localhost:8080/"
        },
        "id": "vLPzhGLE0kpQ",
        "outputId": "43ef2360-ebe4-4be0-e73b-5bfe7742dba3"
      },
      "outputs": [
        {
          "output_type": "stream",
          "name": "stdout",
          "text": [
            "Collecting googletrans==4.0.0-rc1\n",
            "  Downloading googletrans-4.0.0rc1.tar.gz (20 kB)\n",
            "  Preparing metadata (setup.py) ... \u001b[?25l\u001b[?25hdone\n",
            "Collecting gTTS\n",
            "  Downloading gTTS-2.5.4-py3-none-any.whl.metadata (4.1 kB)\n",
            "Collecting playsound==1.2.2\n",
            "  Downloading playsound-1.2.2-py2.py3-none-any.whl.metadata (3.3 kB)\n",
            "Collecting httpx==0.13.3 (from googletrans==4.0.0-rc1)\n",
            "  Downloading httpx-0.13.3-py3-none-any.whl.metadata (25 kB)\n",
            "Requirement already satisfied: certifi in /usr/local/lib/python3.12/dist-packages (from httpx==0.13.3->googletrans==4.0.0-rc1) (2025.10.5)\n",
            "Collecting hstspreload (from httpx==0.13.3->googletrans==4.0.0-rc1)\n",
            "  Downloading hstspreload-2025.1.1-py3-none-any.whl.metadata (2.1 kB)\n",
            "Requirement already satisfied: sniffio in /usr/local/lib/python3.12/dist-packages (from httpx==0.13.3->googletrans==4.0.0-rc1) (1.3.1)\n",
            "Collecting chardet==3.* (from httpx==0.13.3->googletrans==4.0.0-rc1)\n",
            "  Downloading chardet-3.0.4-py2.py3-none-any.whl.metadata (3.2 kB)\n",
            "Collecting idna==2.* (from httpx==0.13.3->googletrans==4.0.0-rc1)\n",
            "  Downloading idna-2.10-py2.py3-none-any.whl.metadata (9.1 kB)\n",
            "Collecting rfc3986<2,>=1.3 (from httpx==0.13.3->googletrans==4.0.0-rc1)\n",
            "  Downloading rfc3986-1.5.0-py2.py3-none-any.whl.metadata (6.5 kB)\n",
            "Collecting httpcore==0.9.* (from httpx==0.13.3->googletrans==4.0.0-rc1)\n",
            "  Downloading httpcore-0.9.1-py3-none-any.whl.metadata (4.6 kB)\n",
            "Collecting h11<0.10,>=0.8 (from httpcore==0.9.*->httpx==0.13.3->googletrans==4.0.0-rc1)\n",
            "  Downloading h11-0.9.0-py2.py3-none-any.whl.metadata (8.1 kB)\n",
            "Collecting h2==3.* (from httpcore==0.9.*->httpx==0.13.3->googletrans==4.0.0-rc1)\n",
            "  Downloading h2-3.2.0-py2.py3-none-any.whl.metadata (32 kB)\n",
            "Collecting hyperframe<6,>=5.2.0 (from h2==3.*->httpcore==0.9.*->httpx==0.13.3->googletrans==4.0.0-rc1)\n",
            "  Downloading hyperframe-5.2.0-py2.py3-none-any.whl.metadata (7.2 kB)\n",
            "Collecting hpack<4,>=3.0 (from h2==3.*->httpcore==0.9.*->httpx==0.13.3->googletrans==4.0.0-rc1)\n",
            "  Downloading hpack-3.0.0-py2.py3-none-any.whl.metadata (7.0 kB)\n",
            "Requirement already satisfied: requests<3,>=2.27 in /usr/local/lib/python3.12/dist-packages (from gTTS) (2.32.4)\n",
            "Collecting click<8.2,>=7.1 (from gTTS)\n",
            "  Downloading click-8.1.8-py3-none-any.whl.metadata (2.3 kB)\n",
            "Requirement already satisfied: charset_normalizer<4,>=2 in /usr/local/lib/python3.12/dist-packages (from requests<3,>=2.27->gTTS) (3.4.3)\n",
            "Requirement already satisfied: urllib3<3,>=1.21.1 in /usr/local/lib/python3.12/dist-packages (from requests<3,>=2.27->gTTS) (2.5.0)\n",
            "Downloading playsound-1.2.2-py2.py3-none-any.whl (6.0 kB)\n",
            "Downloading httpx-0.13.3-py3-none-any.whl (55 kB)\n",
            "\u001b[2K   \u001b[90m━━━━━━━━━━━━━━━━━━━━━━━━━━━━━━━━━━━━━━━━\u001b[0m \u001b[32m55.1/55.1 kB\u001b[0m \u001b[31m4.0 MB/s\u001b[0m eta \u001b[36m0:00:00\u001b[0m\n",
            "\u001b[?25hDownloading chardet-3.0.4-py2.py3-none-any.whl (133 kB)\n",
            "\u001b[2K   \u001b[90m━━━━━━━━━━━━━━━━━━━━━━━━━━━━━━━━━━━━━━━━\u001b[0m \u001b[32m133.4/133.4 kB\u001b[0m \u001b[31m6.6 MB/s\u001b[0m eta \u001b[36m0:00:00\u001b[0m\n",
            "\u001b[?25hDownloading httpcore-0.9.1-py3-none-any.whl (42 kB)\n",
            "\u001b[2K   \u001b[90m━━━━━━━━━━━━━━━━━━━━━━━━━━━━━━━━━━━━━━━━\u001b[0m \u001b[32m42.6/42.6 kB\u001b[0m \u001b[31m2.9 MB/s\u001b[0m eta \u001b[36m0:00:00\u001b[0m\n",
            "\u001b[?25hDownloading idna-2.10-py2.py3-none-any.whl (58 kB)\n",
            "\u001b[2K   \u001b[90m━━━━━━━━━━━━━━━━━━━━━━━━━━━━━━━━━━━━━━━━\u001b[0m \u001b[32m58.8/58.8 kB\u001b[0m \u001b[31m4.1 MB/s\u001b[0m eta \u001b[36m0:00:00\u001b[0m\n",
            "\u001b[?25hDownloading h2-3.2.0-py2.py3-none-any.whl (65 kB)\n",
            "\u001b[2K   \u001b[90m━━━━━━━━━━━━━━━━━━━━━━━━━━━━━━━━━━━━━━━━\u001b[0m \u001b[32m65.0/65.0 kB\u001b[0m \u001b[31m5.2 MB/s\u001b[0m eta \u001b[36m0:00:00\u001b[0m\n",
            "\u001b[?25hDownloading gTTS-2.5.4-py3-none-any.whl (29 kB)\n",
            "Downloading click-8.1.8-py3-none-any.whl (98 kB)\n",
            "\u001b[2K   \u001b[90m━━━━━━━━━━━━━━━━━━━━━━━━━━━━━━━━━━━━━━━━\u001b[0m \u001b[32m98.2/98.2 kB\u001b[0m \u001b[31m8.0 MB/s\u001b[0m eta \u001b[36m0:00:00\u001b[0m\n",
            "\u001b[?25hDownloading rfc3986-1.5.0-py2.py3-none-any.whl (31 kB)\n",
            "Downloading hstspreload-2025.1.1-py3-none-any.whl (1.3 MB)\n",
            "\u001b[2K   \u001b[90m━━━━━━━━━━━━━━━━━━━━━━━━━━━━━━━━━━━━━━━━\u001b[0m \u001b[32m1.3/1.3 MB\u001b[0m \u001b[31m33.7 MB/s\u001b[0m eta \u001b[36m0:00:00\u001b[0m\n",
            "\u001b[?25hDownloading h11-0.9.0-py2.py3-none-any.whl (53 kB)\n",
            "\u001b[2K   \u001b[90m━━━━━━━━━━━━━━━━━━━━━━━━━━━━━━━━━━━━━━━━\u001b[0m \u001b[32m53.6/53.6 kB\u001b[0m \u001b[31m3.9 MB/s\u001b[0m eta \u001b[36m0:00:00\u001b[0m\n",
            "\u001b[?25hDownloading hpack-3.0.0-py2.py3-none-any.whl (38 kB)\n",
            "Downloading hyperframe-5.2.0-py2.py3-none-any.whl (12 kB)\n",
            "Building wheels for collected packages: googletrans\n",
            "  Building wheel for googletrans (setup.py) ... \u001b[?25l\u001b[?25hdone\n",
            "  Created wheel for googletrans: filename=googletrans-4.0.0rc1-py3-none-any.whl size=17396 sha256=facda8ad3f18bb36a24cf517c5e0d03122d4e3c85a584e86a409066be8aa1757\n",
            "  Stored in directory: /root/.cache/pip/wheels/95/0f/04/b17a72024b56a60e499ce1a6313d283ed5ba332407155bee03\n",
            "Successfully built googletrans\n",
            "Installing collected packages: rfc3986, playsound, hyperframe, hpack, h11, chardet, idna, hstspreload, h2, click, httpcore, httpx, gTTS, googletrans\n",
            "  Attempting uninstall: hyperframe\n",
            "    Found existing installation: hyperframe 6.1.0\n",
            "    Uninstalling hyperframe-6.1.0:\n",
            "      Successfully uninstalled hyperframe-6.1.0\n",
            "  Attempting uninstall: hpack\n",
            "    Found existing installation: hpack 4.1.0\n",
            "    Uninstalling hpack-4.1.0:\n",
            "      Successfully uninstalled hpack-4.1.0\n",
            "  Attempting uninstall: h11\n",
            "    Found existing installation: h11 0.16.0\n",
            "    Uninstalling h11-0.16.0:\n",
            "      Successfully uninstalled h11-0.16.0\n",
            "  Attempting uninstall: chardet\n",
            "    Found existing installation: chardet 5.2.0\n",
            "    Uninstalling chardet-5.2.0:\n",
            "      Successfully uninstalled chardet-5.2.0\n",
            "  Attempting uninstall: idna\n",
            "    Found existing installation: idna 3.10\n",
            "    Uninstalling idna-3.10:\n",
            "      Successfully uninstalled idna-3.10\n",
            "  Attempting uninstall: h2\n",
            "    Found existing installation: h2 4.3.0\n",
            "    Uninstalling h2-4.3.0:\n",
            "      Successfully uninstalled h2-4.3.0\n",
            "  Attempting uninstall: click\n",
            "    Found existing installation: click 8.3.0\n",
            "    Uninstalling click-8.3.0:\n",
            "      Successfully uninstalled click-8.3.0\n",
            "  Attempting uninstall: httpcore\n",
            "    Found existing installation: httpcore 1.0.9\n",
            "    Uninstalling httpcore-1.0.9:\n",
            "      Successfully uninstalled httpcore-1.0.9\n",
            "  Attempting uninstall: httpx\n",
            "    Found existing installation: httpx 0.28.1\n",
            "    Uninstalling httpx-0.28.1:\n",
            "      Successfully uninstalled httpx-0.28.1\n",
            "\u001b[31mERROR: pip's dependency resolver does not currently take into account all the packages that are installed. This behaviour is the source of the following dependency conflicts.\n",
            "google-genai 1.41.0 requires httpx<1.0.0,>=0.28.1, but you have httpx 0.13.3 which is incompatible.\n",
            "langsmith 0.4.33 requires httpx<1,>=0.23.0, but you have httpx 0.13.3 which is incompatible.\n",
            "openai 1.109.1 requires httpx<1,>=0.23.0, but you have httpx 0.13.3 which is incompatible.\n",
            "gradio 5.49.0 requires httpx<1.0,>=0.24.1, but you have httpx 0.13.3 which is incompatible.\n",
            "gradio-client 1.13.3 requires httpx>=0.24.1, but you have httpx 0.13.3 which is incompatible.\n",
            "mcp 1.16.0 requires httpx>=0.27.1, but you have httpx 0.13.3 which is incompatible.\n",
            "firebase-admin 6.9.0 requires httpx[http2]==0.28.1, but you have httpx 0.13.3 which is incompatible.\u001b[0m\u001b[31m\n",
            "\u001b[0mSuccessfully installed chardet-3.0.4 click-8.1.8 gTTS-2.5.4 googletrans-4.0.0rc1 h11-0.9.0 h2-3.2.0 hpack-3.0.0 hstspreload-2025.1.1 httpcore-0.9.1 httpx-0.13.3 hyperframe-5.2.0 idna-2.10 playsound-1.2.2 rfc3986-1.5.0\n"
          ]
        }
      ],
      "source": [
        "!pip install googletrans==4.0.0-rc1 gTTS playsound==1.2.2\n"
      ]
    },
    {
      "cell_type": "code",
      "source": [
        "from googletrans import Translator\n",
        "from gtts import gTTS\n",
        "from IPython.display import Audio, display\n",
        "import os\n",
        "import time\n",
        "\n",
        "translator = Translator()\n",
        "\n",
        "def speak_text(text, lang):\n",
        "    \"\"\"Generate TTS audio and display an audio player in Colab.\"\"\"\n",
        "    if not text.strip():\n",
        "        return\n",
        "    tts = gTTS(text, lang=lang)\n",
        "    filename = f\"temp_{int(time.time())}.mp3\"\n",
        "    tts.save(filename)\n",
        "    display(Audio(filename, autoplay=True))\n",
        "    # Optionally keep the file or delete\n",
        "    os.remove(filename)\n",
        "\n",
        "def type_and_translate(source_lang, target_lang, user_label):\n",
        "    \"\"\"Simulate a voice conversation using typed input.\"\"\"\n",
        "    text = input(f\"\\n🎤 {user_label} ({source_lang}): \")\n",
        "    if text.strip().lower() == \"quit\":\n",
        "        return None\n",
        "    # Translate\n",
        "    translated = translator.translate(text, src=source_lang, dest=target_lang).text\n",
        "    print(f\"💬 Translated ({target_lang}): {translated}\")\n",
        "    # Play TTS in Colab\n",
        "    speak_text(translated, target_lang)\n",
        "    return True\n",
        "\n",
        "print(\"🌍 Text-based English ↔ Spanish Translator (Colab Compatible)\")\n",
        "print(\"Type 'quit' at any prompt to exit.\\n\")\n",
        "\n",
        "try:\n",
        "    while True:\n",
        "        # Spanish speaker → English\n",
        "        if type_and_translate('es', 'en', \"👤 Spanish Speaker\") is None:\n",
        "            break\n",
        "        # English speaker → Spanish\n",
        "        if type_and_translate('en', 'es', \"👤 English Speaker\") is None:\n",
        "            break\n",
        "except KeyboardInterrupt:\n",
        "    print(\"\\n🛑 Conversation ended.\")\n"
      ],
      "metadata": {
        "colab": {
          "base_uri": "https://localhost:8080/",
          "height": 180
        },
        "id": "KYUR58O00ltj",
        "outputId": "882f42d4-b3b4-405f-f7db-a0f9e218f362"
      },
      "execution_count": null,
      "outputs": [
        {
          "output_type": "stream",
          "name": "stdout",
          "text": [
            "🌍 Text-based English ↔ Spanish Translator (Colab Compatible)\n",
            "Type 'quit' at any prompt to exit.\n",
            "\n",
            "\n",
            "🎤 👤 Spanish Speaker (es): How are you?\n",
            "💬 Translated (en): How are you?\n"
          ]
        },
        {
          "output_type": "display_data",
          "data": {
            "text/plain": [
              "<IPython.lib.display.Audio object>"
            ],
            "text/html": [
              "\n",
              "                <audio  controls=\"controls\" autoplay=\"autoplay\">\n",
              "                    <source src=\"data:audio/mpeg;base64,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\" type=\"audio/mpeg\" />\n",
              "                    Your browser does not support the audio element.\n",
              "                </audio>\n",
              "              "
            ]
          },
          "metadata": {}
        }
      ]
    },
    {
      "cell_type": "code",
      "source": [],
      "metadata": {
        "id": "IrWHe7lc0xIV"
      },
      "execution_count": null,
      "outputs": []
    }
  ]
}