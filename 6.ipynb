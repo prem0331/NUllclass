{
  "nbformat": 4,
  "nbformat_minor": 0,
  "metadata": {
    "colab": {
      "provenance": []
    },
    "kernelspec": {
      "name": "python3",
      "display_name": "Python 3"
    },
    "language_info": {
      "name": "python"
    }
  },
  "cells": [
    {
      "cell_type": "code",
      "execution_count": 6,
      "metadata": {
        "colab": {
          "base_uri": "https://localhost:8080/"
        },
        "id": "k1MQgnIksUfA",
        "outputId": "621b3847-f1ce-4079-ecdb-637da7fca16c"
      },
      "outputs": [
        {
          "output_type": "stream",
          "name": "stdout",
          "text": [
            "Enter an English word: cat\n",
            "Hindi: बिल्ली\n"
          ]
        }
      ],
      "source": [
        "# -----------------------------------------------\n",
        "# English to Hindi Translator (Logic Building Task)\n",
        "# Runs in Jupyter / Colab (No Tkinter GUI)\n",
        "# -----------------------------------------------\n",
        "\n",
        "from datetime import datetime\n",
        "from googletrans import Translator\n",
        "\n",
        "translator = Translator()\n",
        "\n",
        "def translate_word(word):\n",
        "    word = word.strip()\n",
        "    if not word:\n",
        "        return \"❌ Please enter a word.\"\n",
        "\n",
        "    first_letter = word[0].lower()\n",
        "    vowels = ['a', 'e', 'i', 'o', 'u']\n",
        "    current_hour = datetime.now().hour\n",
        "\n",
        "    # If starts with a vowel\n",
        "    if first_letter in vowels:\n",
        "        if 21 <= current_hour < 22:  # Between 9 PM and 10 PM\n",
        "            translated = translator.translate(word, src='en', dest='hi').text\n",
        "            return f\"Hindi: {translated}\"\n",
        "        else:\n",
        "            return \"⚠️ This word starts with a vowel. Please try between 9 PM and 10 PM.\"\n",
        "    else:\n",
        "        # Translate normally\n",
        "        translated = translator.translate(word, src='en', dest='hi').text\n",
        "        return f\"Hindi: {translated}\"\n",
        "\n",
        "# ---------- RUN ----------\n",
        "word = input(\"Enter an English word: \")\n",
        "print(translate_word(word))\n"
      ]
    },
    {
      "cell_type": "code",
      "metadata": {
        "id": "880d9cef"
      },
      "source": [],
      "execution_count": 5,
      "outputs": []
    }
  ]
}